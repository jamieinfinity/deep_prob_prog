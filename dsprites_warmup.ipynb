{
 "cells": [
  {
   "cell_type": "markdown",
   "metadata": {
    "Collapsed": "false"
   },
   "source": [
    "# dSprites Warmup"
   ]
  },
  {
   "cell_type": "markdown",
   "metadata": {
    "Collapsed": "false"
   },
   "source": [
    "## Setup"
   ]
  },
  {
   "cell_type": "code",
   "execution_count": 1,
   "metadata": {
    "Collapsed": "false"
   },
   "outputs": [],
   "source": [
    "import numpy as np\n",
    "import matplotlib.pyplot as plt\n",
    "from sklearn.model_selection import train_test_split\n",
    "\n",
    "import torch\n",
    "import torch.nn.functional as F\n",
    "from torch import nn\n",
    "from torch import optim\n",
    "from torch.utils.data import TensorDataset\n",
    "from torch.utils.data import DataLoader\n",
    "\n",
    "from pathlib import Path\n",
    "import requests\n",
    "import pickle\n",
    "import gzip"
   ]
  },
  {
   "cell_type": "code",
   "execution_count": 2,
   "metadata": {
    "Collapsed": "false"
   },
   "outputs": [
    {
     "name": "stdout",
     "output_type": "stream",
     "text": [
      "True\n"
     ]
    }
   ],
   "source": [
    "dev = torch.device(\"cuda\") if torch.cuda.is_available() else torch.device(\"cpu\")\n",
    "print(torch.cuda.is_available())"
   ]
  },
  {
   "cell_type": "markdown",
   "metadata": {
    "Collapsed": "false"
   },
   "source": [
    "## Load data"
   ]
  },
  {
   "cell_type": "code",
   "execution_count": 3,
   "metadata": {
    "Collapsed": "false"
   },
   "outputs": [],
   "source": [
    "dataset_zip = np.load('/home/jupyter/causalML/tutorials/data/dsprites-dataset/dsprites_ndarray_co1sh3sc6or40x32y32_64x64.npz', allow_pickle=True, encoding='bytes')\n",
    "\n",
    "imgs = dataset_zip['imgs']\n",
    "latents_values = dataset_zip['latents_values']\n",
    "latents_classes = dataset_zip['latents_classes']\n",
    "metadata = dataset_zip['metadata'][()]"
   ]
  },
  {
   "cell_type": "code",
   "execution_count": 4,
   "metadata": {
    "Collapsed": "false"
   },
   "outputs": [
    {
     "data": {
      "text/plain": [
       "dict_keys([b'date', b'description', b'version', b'latents_names', b'latents_possible_values', b'latents_sizes', b'author', b'title'])"
      ]
     },
     "execution_count": 4,
     "metadata": {},
     "output_type": "execute_result"
    }
   ],
   "source": [
    "metadata.keys()"
   ]
  },
  {
   "cell_type": "code",
   "execution_count": 5,
   "metadata": {
    "Collapsed": "false"
   },
   "outputs": [],
   "source": [
    "# Define number of values per latents and functions to convert to indices\n",
    "latents_sizes = metadata[b'latents_sizes']\n",
    "latents_bases = np.concatenate((latents_sizes[::-1].cumprod()[::-1][1:],\n",
    "                                np.array([1,])))\n",
    "\n",
    "def latent_to_index(latents):\n",
    "    return np.dot(latents, latents_bases).astype(int)\n",
    "\n",
    "def sample_latent(size=1):\n",
    "    samples = np.zeros((size, latents_sizes.size))\n",
    "    for lat_i, lat_size in enumerate(latents_sizes):\n",
    "        samples[:, lat_i] = np.random.randint(lat_size, size=size)\n",
    "    return samples"
   ]
  },
  {
   "cell_type": "code",
   "execution_count": 6,
   "metadata": {
    "Collapsed": "false"
   },
   "outputs": [],
   "source": [
    "# Helper function to show images\n",
    "def show_images_grid(imgs_, num_images=25):\n",
    "    ncols = int(np.ceil(num_images**0.5))\n",
    "    nrows = int(np.ceil(num_images / ncols))\n",
    "    _, axes = plt.subplots(ncols, nrows, figsize=(nrows * 3, ncols * 3))\n",
    "    axes = axes.flatten()\n",
    "\n",
    "    for ax_i, ax in enumerate(axes):\n",
    "        if ax_i < num_images:\n",
    "            ax.imshow(imgs_[ax_i], cmap='Greys_r',  interpolation='nearest')\n",
    "            ax.set_xticks([])\n",
    "            ax.set_yticks([])\n",
    "    else:\n",
    "        ax.axis('off')"
   ]
  },
  {
   "cell_type": "code",
   "execution_count": 22,
   "metadata": {
    "Collapsed": "false"
   },
   "outputs": [],
   "source": [
    "SAMPLE_SIZE = 60000 # 60000\n",
    "latents_sampled = sample_latent(size=SAMPLE_SIZE)\n",
    "# latents_sampled[:, 1] = 1\n",
    "\n",
    "# Select images\n",
    "indices_sampled = latent_to_index(latents_sampled)\n",
    "imgs_sampled = imgs[indices_sampled]\n",
    "\n",
    "# Show images\n",
    "# show_images_grid(imgs_sampled)"
   ]
  },
  {
   "cell_type": "code",
   "execution_count": 23,
   "metadata": {
    "Collapsed": "false"
   },
   "outputs": [],
   "source": [
    "x_train, x_test, y_train, y_test = train_test_split(imgs_sampled.astype('float32'), latents_sampled[:,1].astype('int64'), \n",
    "                                                    test_size=0.1667, random_state=42)\n",
    "x_train, y_train, x_test, y_test = map(\n",
    "    torch.tensor, (x_train, y_train, x_test, y_test)\n",
    ")"
   ]
  },
  {
   "cell_type": "markdown",
   "metadata": {
    "Collapsed": "false"
   },
   "source": [
    "## Build model"
   ]
  },
  {
   "cell_type": "code",
   "execution_count": 29,
   "metadata": {
    "Collapsed": "false"
   },
   "outputs": [],
   "source": [
    "BATCH_SIZE = 128\n",
    "IMAGE_SIZE = 64\n",
    "EPOCHS = 15\n",
    "LEARNING_RATE = 0.05\n",
    "MOMENTUM = 0.9"
   ]
  },
  {
   "cell_type": "code",
   "execution_count": 30,
   "metadata": {
    "Collapsed": "false"
   },
   "outputs": [],
   "source": [
    "def get_data(train_ds, test_ds, bs):\n",
    "    return (\n",
    "        DataLoader(train_ds, batch_size=bs, shuffle=True),\n",
    "        DataLoader(test_ds, batch_size=bs * 2),\n",
    "    )\n",
    "\n",
    "def preprocess(x, y):\n",
    "    return x.view(-1, 1, IMAGE_SIZE, IMAGE_SIZE).to(dev), y.to(dev)\n",
    "\n",
    "class WrappedDataLoader:\n",
    "    def __init__(self, dl, func):\n",
    "        self.dl = dl\n",
    "        self.func = func\n",
    "\n",
    "    def __len__(self):\n",
    "        return len(self.dl)\n",
    "\n",
    "    def __iter__(self):\n",
    "        batches = iter(self.dl)\n",
    "        for b in batches:\n",
    "            yield (self.func(*b))\n",
    "\n",
    "class Lambda(nn.Module):\n",
    "    def __init__(self, func):\n",
    "        super().__init__()\n",
    "        self.func = func\n",
    "\n",
    "    def forward(self, x):\n",
    "        return self.func(x)\n",
    "    \n",
    "def loss_batch(model, loss_func, xb, yb, opt=None):\n",
    "    loss = loss_func(model(xb), yb)\n",
    "\n",
    "    if opt is not None:\n",
    "        loss.backward()\n",
    "        opt.step()\n",
    "        opt.zero_grad()\n",
    "\n",
    "    return loss.item(), len(xb)\n",
    "    \n",
    "def fit(epochs, model, loss_func, opt, train_dl, test_dl):\n",
    "    # loop through epochs\n",
    "    for epoch in range(epochs):\n",
    "        # loop through all batches, adjusts weights via opt and loss_func\n",
    "        model.train() # put model in training mode (for things like dropout)\n",
    "        for xb, yb in train_dl:\n",
    "            loss_batch(model, loss_func, xb, yb, opt)\n",
    "\n",
    "        # calculate validation loss\n",
    "        model.eval() # put model in evaluation mode (for things like dropout)\n",
    "        with torch.no_grad():\n",
    "            losses, nums = zip(\n",
    "                *[loss_batch(model, loss_func, xb, yb) for xb, yb in test_dl]\n",
    "            )\n",
    "        test_loss = np.sum(np.multiply(losses, nums)) / np.sum(nums)\n",
    "\n",
    "        print(epoch, test_loss)"
   ]
  },
  {
   "cell_type": "code",
   "execution_count": 31,
   "metadata": {
    "Collapsed": "false"
   },
   "outputs": [],
   "source": [
    "train_ds = TensorDataset(x_train, y_train)\n",
    "test_ds = TensorDataset(x_test, y_test)\n",
    "\n",
    "train_dl, test_dl = get_data(train_ds, test_ds, BATCH_SIZE)\n",
    "train_dl = WrappedDataLoader(train_dl, preprocess)\n",
    "test_dl = WrappedDataLoader(test_dl, preprocess)"
   ]
  },
  {
   "cell_type": "code",
   "execution_count": 32,
   "metadata": {
    "Collapsed": "false"
   },
   "outputs": [],
   "source": [
    "class ModelDSprite(nn.Module):\n",
    "    def __init__(self):\n",
    "        super().__init__()\n",
    "        self.conv1 = nn.Conv2d(1, 32, kernel_size=3, stride=1, padding=1)\n",
    "        self.conv2 = nn.Conv2d(32, 64, kernel_size=3, stride=1, padding=1)\n",
    "        self.fc1 = nn.Linear(64*16*16, 64)\n",
    "        self.fc2 = nn.Linear(64, 3)        \n",
    "    def forward(self, x):\n",
    "        # 32 x 64 x 64\n",
    "        x = F.relu(self.conv1(x))\n",
    "        # 32 x 32 x 32\n",
    "        x = F.max_pool2d(x, kernel_size=2, stride=2, padding=0)\n",
    "        # 64 x 32 x 32\n",
    "        x = F.relu(self.conv2(x))\n",
    "        # 64 x 16 x 16\n",
    "        x = F.max_pool2d(x, kernel_size=2, stride=2, padding=0)\n",
    "        x = x.view(-1, 64*16*16)\n",
    "        x = F.relu(self.fc1(x))\n",
    "        x = self.fc2(x)\n",
    "        return(x)        "
   ]
  },
  {
   "cell_type": "code",
   "execution_count": 33,
   "metadata": {
    "Collapsed": "false"
   },
   "outputs": [
    {
     "name": "stdout",
     "output_type": "stream",
     "text": [
      "0 0.9742710431965083\n",
      "1 0.9754475372787762\n",
      "2 0.9618331156499718\n",
      "3 0.7237962132643471\n",
      "4 0.2568916223736149\n",
      "5 0.039183057822291555\n",
      "6 0.013970756335297577\n",
      "7 0.011966080526796919\n",
      "8 0.01564020741985315\n",
      "9 0.004673301935988506\n",
      "10 0.00551016409068531\n",
      "11 0.002877418363012092\n",
      "12 0.002784902598635122\n",
      "13 0.002708173279665966\n",
      "14 0.002717289106368756\n"
     ]
    }
   ],
   "source": [
    "# %%time\n",
    "\n",
    "model = ModelDSprite()\n",
    "model.to(dev)\n",
    "\n",
    "loss_func = F.cross_entropy\n",
    "opt = optim.SGD(model.parameters(), lr=LEARNING_RATE, momentum=MOMENTUM)\n",
    "\n",
    "fit(EPOCHS, model, loss_func, opt, train_dl, test_dl)\n",
    "\n",
    "# 0 1.0205792663121696\n",
    "# 1 1.0181344623471278\n",
    "# 2 1.0312850714516482\n",
    "# 3 0.9798258404640217\n",
    "# 4 0.9714416380620818\n",
    "# 5 0.9638791082859325\n",
    "# 6 1.026337376667771\n",
    "# 7 0.6992057580109764\n",
    "# 8 0.37132105935671117\n",
    "# 9 0.13169585563014494\n",
    "# CPU times: user 15min 12s, sys: 5min 55s, total: 21min 7s\n",
    "# Wall time: 7min 10s"
   ]
  },
  {
   "cell_type": "code",
   "execution_count": 34,
   "metadata": {
    "Collapsed": "false"
   },
   "outputs": [
    {
     "name": "stdout",
     "output_type": "stream",
     "text": [
      "tensor(0.9993, device='cuda:0')\n"
     ]
    }
   ],
   "source": [
    "def count_correct(y_pred, y_truth):\n",
    "    preds = torch.argmax(y_pred, dim=1)\n",
    "    return (preds == y_truth).float().sum()\n",
    "\n",
    "model.eval()\n",
    "cc = 0\n",
    "tot = 0\n",
    "with torch.no_grad():\n",
    "    for xb, yb in test_dl:\n",
    "        y_pred = model(xb)\n",
    "        tot += len(y_pred)\n",
    "        cc += count_correct(y_pred, yb)\n",
    "accuracy = cc/tot\n",
    "print(accuracy)"
   ]
  },
  {
   "cell_type": "code",
   "execution_count": 60,
   "metadata": {
    "Collapsed": "false"
   },
   "outputs": [
    {
     "name": "stdout",
     "output_type": "stream",
     "text": [
      "0    0\n"
     ]
    },
    {
     "data": {
      "image/png": "[encoded data removed]",
      "text/plain": [
       "<Figure size 432x288 with 1 Axes>"
      ]
     },
     "metadata": {
      "needs_background": "light"
     },
     "output_type": "display_data"
    }
   ],
   "source": [
    "ind = np.random.choice(range(len(y_test)))\n",
    "pred = model(x_test[ind].view(-1,1,IMAGE_SIZE,IMAGE_SIZE).to(dev))\n",
    "pred = torch.argmax(pred,dim=1)\n",
    "print(pred[0].item(), '  ', y_test[ind].item())\n",
    "plt.imshow(x_test[ind].reshape((IMAGE_SIZE, IMAGE_SIZE)), cmap=\"gray\")\n",
    "plt.show()"
   ]
  },
  {
   "cell_type": "markdown",
   "metadata": {
    "Collapsed": "false"
   },
   "source": [
    "## Save / load model"
   ]
  },
  {
   "cell_type": "code",
   "execution_count": 61,
   "metadata": {
    "Collapsed": "false"
   },
   "outputs": [],
   "source": [
    "MODEL_PATH = Path(\"models\")\n",
    "MNIST_MODEL_PATH = MODEL_PATH / \"dsprite\"\n",
    "\n",
    "MNIST_MODEL_PATH.mkdir(parents=True, exist_ok=True)\n",
    "FILENAME = (MNIST_MODEL_PATH / \"dsprite_classifier.pt\")"
   ]
  },
  {
   "cell_type": "code",
   "execution_count": 62,
   "metadata": {
    "Collapsed": "false"
   },
   "outputs": [],
   "source": [
    "# save model state\n",
    "torch.save(model.state_dict(), FILENAME)"
   ]
  },
  {
   "cell_type": "code",
   "execution_count": 63,
   "metadata": {
    "Collapsed": "false"
   },
   "outputs": [
    {
     "data": {
      "text/plain": [
       "<All keys matched successfully>"
      ]
     },
     "execution_count": 63,
     "metadata": {},
     "output_type": "execute_result"
    }
   ],
   "source": [
    "# model_saved = nn.Sequential(\n",
    "#     nn.Conv2d(1, 16, kernel_size=3, stride=2, padding=1),\n",
    "#     nn.ReLU(),\n",
    "#     nn.Conv2d(16, 16, kernel_size=3, stride=2, padding=1),\n",
    "#     nn.ReLU(),\n",
    "#     nn.Conv2d(16, 10, kernel_size=3, stride=2, padding=1),\n",
    "#     nn.ReLU(),\n",
    "#     nn.AdaptiveAvgPool2d(1),\n",
    "#     Lambda(lambda x: x.view(x.size(0), -1)),\n",
    "# )\n",
    "# model_saved.to(dev)\n",
    "\n",
    "model_saved = ModelDSprite()\n",
    "model_saved.to(dev)\n",
    "\n",
    "model_saved.load_state_dict(torch.load(FILENAME))"
   ]
  },
  {
   "cell_type": "code",
   "execution_count": 64,
   "metadata": {
    "Collapsed": "false"
   },
   "outputs": [
    {
     "name": "stdout",
     "output_type": "stream",
     "text": [
      "tensor(0.9993, device='cuda:0')\n"
     ]
    }
   ],
   "source": [
    "def count_correct(y_pred, y_truth):\n",
    "    preds = torch.argmax(y_pred, dim=1)\n",
    "    return (preds == y_truth).float().sum()\n",
    "\n",
    "model_saved.eval()\n",
    "cc = 0\n",
    "tot = 0\n",
    "with torch.no_grad():\n",
    "    for xb, yb in test_dl:\n",
    "        y_pred = model_saved(xb)\n",
    "        tot += len(y_pred)\n",
    "        cc += count_correct(y_pred, yb)\n",
    "accuracy = cc/tot\n",
    "print(accuracy)"
   ]
  },
  {
   "cell_type": "code",
   "execution_count": 83,
   "metadata": {
    "Collapsed": "false"
   },
   "outputs": [
    {
     "name": "stdout",
     "output_type": "stream",
     "text": [
      "1    1\n"
     ]
    },
    {
     "data": {
      "image/png": "[encoded data removed]",
      "text/plain": [
       "<Figure size 432x288 with 1 Axes>"
      ]
     },
     "metadata": {
      "needs_background": "light"
     },
     "output_type": "display_data"
    }
   ],
   "source": [
    "ind = np.random.choice(range(len(y_test)))\n",
    "pred = model_saved(x_test[ind].view(-1,1,IMAGE_SIZE,IMAGE_SIZE).to(dev))\n",
    "pred = torch.argmax(pred,dim=1)\n",
    "print(pred[0].item(), '  ', y_test[ind].item())\n",
    "plt.imshow(x_test[ind].reshape((IMAGE_SIZE, IMAGE_SIZE)), cmap=\"gray\")\n",
    "plt.show()"
   ]
  },
  {
   "cell_type": "code",
   "execution_count": null,
   "metadata": {},
   "outputs": [],
   "source": []
  }
 ],
 "metadata": {
  "kernelspec": {
   "display_name": "Python 3",
   "language": "python",
   "name": "python3"
  },
  "language_info": {
   "codemirror_mode": {
    "name": "ipython",
    "version": 3
   },
   "file_extension": ".py",
   "mimetype": "text/x-python",
   "name": "python",
   "nbconvert_exporter": "python",
   "pygments_lexer": "ipython3",
   "version": "3.7.4"
  }
 },
 "nbformat": 4,
 "nbformat_minor": 4
}
